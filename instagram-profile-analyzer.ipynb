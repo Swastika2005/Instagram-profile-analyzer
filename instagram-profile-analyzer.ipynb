{
 "cells": [
  {
   "cell_type": "code",
   "execution_count": null,
   "id": "6d9e067d-98c8-47e1-ba0d-7b49350ad01b",
   "metadata": {},
   "outputs": [],
   "source": [
    "import instaloader\n",
    "\n",
    "# Create Instaloader object\n",
    "ig = instaloader.Instaloader()\n",
    "\n",
    "# Input target Instagram username\n",
    "target_username = input(\"Enter Instagram username to analyze: \")\n",
    "\n",
    "# Fetch profile\n",
    "try:\n",
    "    profile = instaloader.Profile.from_username(ig.context, target_username)\n",
    "except instaloader.exceptions.ProfileNotExistsException:\n",
    "    print(\"Profile does not exist!\")\n",
    "    exit()\n",
    "except instaloader.exceptions.ConnectionException:\n",
    "    print(\"Network error. Try again later.\")\n",
    "    exit()\n",
    "\n",
    "# Print basic profile info (public info only)\n",
    "print(\"\\n===== Profile Info =====\")\n",
    "print(\"Username:\", profile.username)\n",
    "print(\"Full Name:\", profile.full_name)\n",
    "print(\"Is Private:\", profile.is_private)\n",
    "print(\"Is Verified:\", profile.is_verified)\n",
    "print(\"Number of Posts:\", profile.mediacount)\n",
    "print(\"Followers:\", profile.followers)\n",
    "print(\"Following:\", profile.followees)\n",
    "print(\"Bio:\", profile.biography)\n",
    "print(\"External URL:\", profile.external_url if profile.external_url else \"None\")\n",
    "\n",
    "# Download profile picture\n",
    "try:\n",
    "    ig.download_profile(target_username, profile_pic_only=True)\n",
    "    print(f\"\\n✅ Profile picture downloaded for {target_username}\")\n",
    "except Exception as e:\n",
    "    print(f\"Could not download profile picture: {e}\")\n",
    "\n",
    "# Save summary to file\n",
    "with open(f\"{target_username}_summary.txt\", \"w\", encoding=\"utf-8\") as f:\n",
    "    f.write(\"===== Instagram Profile Summary =====\\n\\n\")\n",
    "    f.write(f\"Username: {profile.username}\\n\")\n",
    "    f.write(f\"Full Name: {profile.full_name}\\n\")\n",
    "    f.write(f\"Is Private: {profile.is_private}\\n\")\n",
    "    f.write(f\"Is Verified: {profile.is_verified}\\n\")\n",
    "    f.write(f\"Posts: {profile.mediacount}\\n\")\n",
    "    f.write(f\"Followers: {profile.followers}\\n\")\n",
    "    f.write(f\"Following: {profile.followees}\\n\")\n",
    "    f.write(f\"Bio: {profile.biography}\\n\")\n",
    "    f.write(f\"External URL: {profile.external_url if profile.external_url else 'None'}\\n\")\n",
    "\n",
    "print(f\"\\n✅ Summary saved as {target_username}_summary.txt\")\n"
   ]
  }
 ],
 "metadata": {
  "kernelspec": {
   "display_name": "Python 3 (ipykernel)",
   "language": "python",
   "name": "python3"
  },
  "language_info": {
   "codemirror_mode": {
    "name": "ipython",
    "version": 3
   },
   "file_extension": ".py",
   "mimetype": "text/x-python",
   "name": "python",
   "nbconvert_exporter": "python",
   "pygments_lexer": "ipython3",
   "version": "3.12.10"
  }
 },
 "nbformat": 4,
 "nbformat_minor": 5
}
