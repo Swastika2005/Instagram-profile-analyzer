import instaloader

# Create Instaloader object
ig = instaloader.Instaloader()

# Input target Instagram username
target_username = input("Enter Instagram username to analyze: ")

# Fetch profile
try:
    profile = instaloader.Profile.from_username(ig.context, target_username)
except instaloader.exceptions.ProfileNotExistsException:
    print("Profile does not exist!")
    exit()
except instaloader.exceptions.ConnectionException:
    print("Network error. Try again later.")
    exit()

# Print basic profile info (public info only)
print("\n===== Profile Info =====")
print("Username:", profile.username)
print("Full Name:", profile.full_name)
print("Is Private:", profile.is_private)
print("Is Verified:", profile.is_verified)
print("Number of Posts:", profile.mediacount)
print("Followers:", profile.followers)
print("Following:", profile.followees)
print("Bio:", profile.biography)
print("External URL:", profile.external_url if profile.external_url else "None")

# Download profile picture
try:
    ig.download_profile(target_username, profile_pic_only=True)
    print(f"\n✅ Profile picture downloaded for {target_username}")
except Exception as e:
    print(f"Could not download profile picture: {e}")

# Save summary to file
with open(f"{target_username}_summary.txt", "w", encoding="utf-8") as f:
    f.write("===== Instagram Profile Summary =====\n\n")
    f.write(f"Username: {profile.username}\n")
    f.write(f"Full Name: {profile.full_name}\n")
    f.write(f"Is Private: {profile.is_private}\n")
    f.write(f"Is Verified: {profile.is_verified}\n")
    f.write(f"Posts: {profile.mediacount}\n")
    f.write(f"Followers: {profile.followers}\n")
    f.write(f"Following: {profile.followees}\n")
    f.write(f"Bio: {profile.biography}\n")
    f.write(f"External URL: {profile.external_url if profile.external_url else 'None'}\n")

print(f"\n✅ Summary saved as {target_username}_summary.txt")
